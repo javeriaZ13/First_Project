{
 "cells": [
  {
   "cell_type": "code",
   "execution_count": null,
   "metadata": {},
   "outputs": [
    {
     "data": {
      "text/plain": [
       "0"
      ]
     },
     "execution_count": 1,
     "metadata": {},
     "output_type": "execute_result"
    }
   ],
   "source": [
    "import sys\n",
    "from PyQt5.QtCore import *\n",
    "from PyQt5.QtWidgets import *\n",
    "from PyQt5.QtWebEngineWidgets import *\n",
    "\n",
    "\n",
    "# creating a class\n",
    "class MainWindow(QMainWindow):\n",
    "  def __init__(self):\n",
    "    super(MainWindow,self).__init__()\n",
    "    self.showMaximized()\n",
    "    self.browser = QWebEngineView()\n",
    "    self.browser.setUrl(QUrl(\"https://google.com\"))\n",
    "    self.setCentralWidget(self.browser)\n",
    "\n",
    "\n",
    "    # Making a toolbar\n",
    "    self.toolbar = QToolBar()\n",
    "    self.addToolBar(self.toolbar)\n",
    "\n",
    "    # Making a URL bar\n",
    "    self.urlbar = QLineEdit()\n",
    "    self.toolbar.addWidget(self.urlbar)\n",
    "\n",
    "\n",
    "    # Making buttons and adding them to toolbar\n",
    "    # Making a Forward button\n",
    "    self.forward = QAction(\"FORWARD\",self)\n",
    "    self.forward.triggered.connect(self.browser.forward)\n",
    "    self.toolbar.addAction(self.forward)\n",
    "\n",
    "\n",
    "    # Making a Backward Button\n",
    "    self.backward = QAction(\"BACKWARD\",self)\n",
    "    self.backward.triggered.connect(self.browser.back)\n",
    "    self.toolbar.addAction(self.backward)\n",
    "\n",
    "\n",
    "    # Making a Home Button\n",
    "    self.home = QAction(\"HOME\",self)\n",
    "    self.home.triggered.connect(self.navigatehome)\n",
    "    self.toolbar.addAction(self.home)\n",
    "\n",
    "\n",
    "    # Making a Reload Button\n",
    "    self.reload = QAction(\"RELOAD\",self)\n",
    "    self.reload.triggered.connect(self.browser.reload)\n",
    "    self.toolbar.addAction(self.reload)\n",
    "\n",
    "\n",
    "    # Adding some functionalities\n",
    "    # To make sure that when the user clicks on a link, the brower's url changes automatically so to change the url in the urlbar\n",
    "    self.browser.urlChanged.connect(self.updateurl)\n",
    "\n",
    "    # When a user writes a link and presses enter, the brower should navigate to that url\n",
    "    self.urlbar.returnPressed.connect(self.navigateurl)\n",
    "\n",
    "\n",
    "  # Making the update URL method\n",
    "  def updateurl(self,url):\n",
    "     url = self.urlbar.text()\n",
    "     self.urlbar.setText(str(url))\n",
    "\n",
    "\n",
    "  # Making the navigate url method\n",
    "  def navigateurl(self,url):\n",
    "     url = self.urlbar.text()\n",
    "     self.browser.setUrl(QUrl(str(url)))\n",
    "\n",
    "\n",
    "\n",
    "  # Making the navigate home method\n",
    "  def navigatehome(self):\n",
    "     self.browser.setUrl(QUrl(\"https://google.com\"))\n",
    "\n",
    "app = QApplication(sys.argv)\n",
    "app.setApplicationDisplayName(\"Python Browser\")\n",
    "window = MainWindow()\n",
    "app.exec()\n"
   ]
  }
 ],
 "metadata": {
  "kernelspec": {
   "display_name": "Python 3",
   "language": "python",
   "name": "python3"
  },
  "language_info": {
   "codemirror_mode": {
    "name": "ipython",
    "version": 3
   },
   "file_extension": ".py",
   "mimetype": "text/x-python",
   "name": "python",
   "nbconvert_exporter": "python",
   "pygments_lexer": "ipython3",
   "version": "3.12.6"
  }
 },
 "nbformat": 4,
 "nbformat_minor": 2
}
